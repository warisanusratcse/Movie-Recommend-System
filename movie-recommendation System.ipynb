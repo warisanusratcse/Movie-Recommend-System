{
 "cells": [
  {
   "cell_type": "code",
   "execution_count": 1,
   "id": "e87a4da6",
   "metadata": {
    "execution": {
     "iopub.execute_input": "2023-08-12T10:36:50.244000Z",
     "iopub.status.busy": "2023-08-12T10:36:50.243646Z",
     "iopub.status.idle": "2023-08-12T10:36:51.767416Z",
     "shell.execute_reply": "2023-08-12T10:36:51.766492Z"
    },
    "papermill": {
     "duration": 1.542667,
     "end_time": "2023-08-12T10:36:51.769792",
     "exception": false,
     "start_time": "2023-08-12T10:36:50.227125",
     "status": "completed"
    },
    "tags": []
   },
   "outputs": [],
   "source": [
    "import numpy as np # linear algebra\n",
    "import pandas as pd # data processing, CSV file I/O (e.g. pd.read_csv)\n",
    "import matplotlib.pyplot as plt\n",
    "import seaborn as sns\n",
    "import sklearn\n",
    "import random\n",
    "import os\n",
    "from pyspark.sql import SparkSession "
   ]
  },
  {
   "cell_type": "code",
   "execution_count": 2,
   "id": "8b241dca",
   "metadata": {
    "papermill": {
     "duration": 0.014648,
     "end_time": "2023-08-12T10:36:51.799558",
     "exception": false,
     "start_time": "2023-08-12T10:36:51.784910",
     "status": "completed"
    },
    "tags": []
   },
   "outputs": [],
   "source": [
    "# Data Preprocessing"
   ]
  },
  {
   "cell_type": "code",
   "execution_count": 3,
   "id": "777363bc",
   "metadata": {
    "execution": {
     "iopub.execute_input": "2023-08-12T10:36:51.831100Z",
     "iopub.status.busy": "2023-08-12T10:36:51.830757Z",
     "iopub.status.idle": "2023-08-12T10:36:58.296841Z",
     "shell.execute_reply": "2023-08-12T10:36:58.295406Z"
    },
    "papermill": {
     "duration": 6.486948,
     "end_time": "2023-08-12T10:36:58.301557",
     "exception": false,
     "start_time": "2023-08-12T10:36:51.814609",
     "status": "completed"
    },
    "tags": []
   },
   "outputs": [],
   "source": [
    "\n",
    "spark = SparkSession.builder.appName('Recommender_system').getOrCreate()"
   ]
  },
  {
   "cell_type": "code",
   "execution_count": 4,
   "id": "02d09946",
   "metadata": {
    "execution": {
     "iopub.execute_input": "2023-08-12T10:36:58.339222Z",
     "iopub.status.busy": "2023-08-12T10:36:58.338872Z",
     "iopub.status.idle": "2023-08-12T10:37:50.332110Z",
     "shell.execute_reply": "2023-08-12T10:37:50.331104Z"
    },
    "papermill": {
     "duration": 52.014118,
     "end_time": "2023-08-12T10:37:50.335142",
     "exception": false,
     "start_time": "2023-08-12T10:36:58.321024",
     "status": "completed"
    },
    "tags": []
   },
   "outputs": [
    {
     "name": "stdout",
     "output_type": "stream",
     "text": [
      "+------+-------+------+----------+\n",
      "|userId|movieId|rating| timestamp|\n",
      "+------+-------+------+----------+\n",
      "|     1|    296|   5.0|1147880044|\n",
      "|     1|    306|   3.5|1147868817|\n",
      "|     1|    307|   5.0|1147868828|\n",
      "|     1|    665|   5.0|1147878820|\n",
      "|     1|    899|   3.5|1147868510|\n",
      "|     1|   1088|   4.0|1147868495|\n",
      "|     1|   1175|   3.5|1147868826|\n",
      "|     1|   1217|   3.5|1147878326|\n",
      "|     1|   1237|   5.0|1147868839|\n",
      "|     1|   1250|   4.0|1147868414|\n",
      "|     1|   1260|   3.5|1147877857|\n",
      "|     1|   1653|   4.0|1147868097|\n",
      "|     1|   2011|   2.5|1147868079|\n",
      "|     1|   2012|   2.5|1147868068|\n",
      "|     1|   2068|   2.5|1147869044|\n",
      "|     1|   2161|   3.5|1147868609|\n",
      "|     1|   2351|   4.5|1147877957|\n",
      "|     1|   2573|   4.0|1147878923|\n",
      "|     1|   2632|   5.0|1147878248|\n",
      "|     1|   2692|   5.0|1147869100|\n",
      "+------+-------+------+----------+\n",
      "only showing top 20 rows\n",
      "\n"
     ]
    }
   ],
   "source": [
    "data = spark.read.csv('C:/Users/Nusu Queen/Desktop/Data Science Project/TopperWorld/Movie Recommend System/Dataset/ratings.csv\", \n",
    "header=True, inferSchema=True)\n",
    "data.show()"
   ]
  },
  {
   "cell_type": "code",
   "execution_count": 5,
   "id": "c7147482",
   "metadata": {
    "execution": {
     "iopub.execute_input": "2023-08-12T10:37:50.383931Z",
     "iopub.status.busy": "2023-08-12T10:37:50.383499Z",
     "iopub.status.idle": "2023-08-12T10:38:01.628554Z",
     "shell.execute_reply": "2023-08-12T10:38:01.627570Z"
    },
    "papermill": {
     "duration": 11.272947,
     "end_time": "2023-08-12T10:38:01.631577",
     "exception": false,
     "start_time": "2023-08-12T10:37:50.358630",
     "status": "completed"
    },
    "tags": []
   },
   "outputs": [
    {
     "name": "stdout",
     "output_type": "stream",
     "text": [
      "Number of rows: 25000095\n",
      "Number of columns: 4\n"
     ]
    }
   ],
   "source": [
    "num_rows = data.count()\n",
    "\n",
    "# Count the number of columns\n",
    "num_columns = len(data.columns)\n",
    "\n",
    "# Print the shape\n",
    "print(\"Number of rows:\", num_rows)\n",
    "print(\"Number of columns:\", num_columns)"
   ]
  },
  {
   "cell_type": "code",
   "execution_count": 6,
   "id": "f63e6b81",
   "metadata": {
    "execution": {
     "iopub.execute_input": "2023-08-12T10:38:01.680597Z",
     "iopub.status.busy": "2023-08-12T10:38:01.680146Z",
     "iopub.status.idle": "2023-08-12T10:38:02.759867Z",
     "shell.execute_reply": "2023-08-12T10:38:02.758005Z"
    },
    "papermill": {
     "duration": 1.106936,
     "end_time": "2023-08-12T10:38:02.763063",
     "exception": false,
     "start_time": "2023-08-12T10:38:01.656127",
     "status": "completed"
    },
    "tags": []
   },
   "outputs": [
    {
     "name": "stdout",
     "output_type": "stream",
     "text": [
      "+-------+--------------------+--------------------+\n",
      "|movieId|               title|              genres|\n",
      "+-------+--------------------+--------------------+\n",
      "|      1|    Toy Story (1995)|Adventure|Animati...|\n",
      "|      2|      Jumanji (1995)|Adventure|Childre...|\n",
      "|      3|Grumpier Old Men ...|      Comedy|Romance|\n",
      "|      4|Waiting to Exhale...|Comedy|Drama|Romance|\n",
      "|      5|Father of the Bri...|              Comedy|\n",
      "|      6|         Heat (1995)|Action|Crime|Thri...|\n",
      "|      7|      Sabrina (1995)|      Comedy|Romance|\n",
      "|      8| Tom and Huck (1995)|  Adventure|Children|\n",
      "|      9| Sudden Death (1995)|              Action|\n",
      "|     10|    GoldenEye (1995)|Action|Adventure|...|\n",
      "|     11|American Presiden...|Comedy|Drama|Romance|\n",
      "|     12|Dracula: Dead and...|       Comedy|Horror|\n",
      "|     13|        Balto (1995)|Adventure|Animati...|\n",
      "|     14|        Nixon (1995)|               Drama|\n",
      "|     15|Cutthroat Island ...|Action|Adventure|...|\n",
      "|     16|       Casino (1995)|         Crime|Drama|\n",
      "|     17|Sense and Sensibi...|       Drama|Romance|\n",
      "|     18|   Four Rooms (1995)|              Comedy|\n",
      "|     19|Ace Ventura: When...|              Comedy|\n",
      "|     20|  Money Train (1995)|Action|Comedy|Cri...|\n",
      "+-------+--------------------+--------------------+\n",
      "only showing top 20 rows\n",
      "\n"
     ]
    }
   ],
   "source": [
    "# Read data from CSV file\n",
    "movie_names_data = spark.read.csv(\"C:/Users/Mostafijur Rahman/Desktop/My Project/Data Science Project/TopperWorld/Movie Recommend System/Dataset/movies.csv\", header=True, inferSchema=True)\n",
    "movie_names_data.show()"
   ]
  },
  {
   "cell_type": "code",
   "execution_count": 7,
   "id": "7a5913ee",
   "metadata": {
    "execution": {
     "iopub.execute_input": "2023-08-12T10:38:02.812351Z",
     "iopub.status.busy": "2023-08-12T10:38:02.811918Z",
     "iopub.status.idle": "2023-08-12T10:38:02.819640Z",
     "shell.execute_reply": "2023-08-12T10:38:02.818748Z"
    },
    "papermill": {
     "duration": 0.037041,
     "end_time": "2023-08-12T10:38:02.824086",
     "exception": false,
     "start_time": "2023-08-12T10:38:02.787045",
     "status": "completed"
    },
    "tags": []
   },
   "outputs": [
    {
     "name": "stdout",
     "output_type": "stream",
     "text": [
      "root\n",
      " |-- userId: integer (nullable = true)\n",
      " |-- movieId: integer (nullable = true)\n",
      " |-- rating: double (nullable = true)\n",
      " |-- timestamp: integer (nullable = true)\n",
      "\n"
     ]
    }
   ],
   "source": [
    "\n",
    "data.printSchema()\n"
   ]
  },
  {
   "cell_type": "code",
   "execution_count": 8,
   "id": "ee3b2f69",
   "metadata": {
    "execution": {
     "iopub.execute_input": "2023-08-12T10:38:02.872260Z",
     "iopub.status.busy": "2023-08-12T10:38:02.871850Z",
     "iopub.status.idle": "2023-08-12T10:38:48.611654Z",
     "shell.execute_reply": "2023-08-12T10:38:48.610436Z"
    },
    "papermill": {
     "duration": 45.767675,
     "end_time": "2023-08-12T10:38:48.614994",
     "exception": false,
     "start_time": "2023-08-12T10:38:02.847319",
     "status": "completed"
    },
    "tags": []
   },
   "outputs": [
    {
     "name": "stdout",
     "output_type": "stream",
     "text": [
      "+-------+-----------------+------------------+------------------+--------------------+\n",
      "|summary|           userId|           movieId|            rating|           timestamp|\n",
      "+-------+-----------------+------------------+------------------+--------------------+\n",
      "|  count|         25000095|          25000095|          25000095|            25000095|\n",
      "|   mean|81189.28115381162|21387.981943268616| 3.533854451353085|1.2156014431215513E9|\n",
      "| stddev|46791.71589745776| 39198.86210105973|1.0607439611423535| 2.268758080595386E8|\n",
      "|    min|                1|                 1|               0.5|           789652009|\n",
      "|    max|           162541|            209171|               5.0|          1574327703|\n",
      "+-------+-----------------+------------------+------------------+--------------------+\n",
      "\n"
     ]
    }
   ],
   "source": [
    "data.describe().show()"
   ]
  },
  {
   "cell_type": "code",
   "execution_count": 10,
   "id": "534b3bfe",
   "metadata": {
    "execution": {
     "iopub.execute_input": "2023-08-12T10:38:48.715377Z",
     "iopub.status.busy": "2023-08-12T10:38:48.714863Z",
     "iopub.status.idle": "2023-08-12T10:40:57.938431Z",
     "shell.execute_reply": "2023-08-12T10:40:57.937429Z"
    },
    "papermill": {
     "duration": 129.267644,
     "end_time": "2023-08-12T10:40:57.957257",
     "exception": false,
     "start_time": "2023-08-12T10:38:48.689613",
     "status": "completed"
    },
    "tags": []
   },
   "outputs": [
    {
     "data": {
      "image/png": "[encoded data removed]",
      "text/plain": [
       "<Figure size 1440x432 with 1 Axes>"
      ]
     },
     "metadata": {
      "needs_background": "light"
     },
     "output_type": "display_data"
    }
   ],
   "source": [
    "import matplotlib.pyplot as plt\n",
    "from pyspark.sql.functions import avg  \n",
    "\n",
    "# Calculate average ratings for each movie\n",
    "avg_ratings = data.groupBy(\"movieId\").agg(avg(\"rating\").alias(\"avg_rating\"))\n",
    "\n",
    "# Join the average ratings with movie names based on the movieId column\n",
    "combined_data = avg_ratings.join(movie_names_data, on=\"movieId\")\n",
    "\n",
    "# Convert the PySpark DataFrame to a Pandas DataFrame for plotting\n",
    "combined_data_pd = combined_data.toPandas()\n",
    "\n",
    "# Create a bar plot\n",
    "plt.figure(figsize=(20, 6))\n",
    "plt.bar(combined_data_pd[\"movieId\"], combined_data_pd[\"avg_rating\"])\n",
    "plt.xlabel(\"Movie ID\")\n",
    "plt.ylabel(\"Average Rating\")\n",
    "plt.title(\"Average Ratings for Movies\")\n",
    "plt.show()\n"
   ]
  },
  {
   "cell_type": "code",
   "execution_count": 11,
   "id": "1f9f1aae",
   "metadata": {
    "execution": {
     "iopub.execute_input": "2023-08-12T10:40:57.998355Z",
     "iopub.status.busy": "2023-08-12T10:40:57.996477Z",
     "iopub.status.idle": "2023-08-12T10:43:03.071462Z",
     "shell.execute_reply": "2023-08-12T10:43:03.070503Z"
    },
    "papermill": {
     "duration": 125.154118,
     "end_time": "2023-08-12T10:43:03.130647",
     "exception": false,
     "start_time": "2023-08-12T10:40:57.976529",
     "status": "completed"
    },
    "tags": []
   },
   "outputs": [
    {
     "name": "stdout",
     "output_type": "stream",
     "text": [
      "Number of rows in train_data: 19997916\n",
      "Number of rows in test_data: 5002179\n"
     ]
    }
   ],
   "source": [
    "\n",
    "train_data, test_data = data.randomSplit([0.8, 0.2], seed=123)\n",
    "\n",
    "# Show the number of rows in the training and testing sets\n",
    "print(\"Number of rows in train_data:\", train_data.count())\n",
    "print(\"Number of rows in test_data:\", test_data.count())"
   ]
  },
  {
   "cell_type": "code",
   "execution_count": 12,
   "id": "e5b659cd",
   "metadata": {
    "papermill": {
     "duration": 0.028179,
     "end_time": "2023-08-12T10:43:03.314793",
     "exception": false,
     "start_time": "2023-08-12T10:43:03.286614",
     "status": "completed"
    },
    "tags": []
   },
   "outputs": [],
   "source": [
    "# Modelling"
   ]
  },
  {
   "cell_type": "code",
   "execution_count": 13,
   "id": "838067f5",
   "metadata": {
    "execution": {
     "iopub.execute_input": "2023-08-12T10:43:03.374383Z",
     "iopub.status.busy": "2023-08-12T10:43:03.373224Z",
     "iopub.status.idle": "2023-08-12T10:51:04.653439Z",
     "shell.execute_reply": "2023-08-12T10:51:04.652228Z"
    },
    "papermill": {
     "duration": 481.311435,
     "end_time": "2023-08-12T10:51:04.656048",
     "exception": false,
     "start_time": "2023-08-12T10:43:03.344613",
     "status": "completed"
    },
    "tags": []
   },
   "outputs": [],
   "source": [
    "from pyspark.ml.recommendation import ALS    \n",
    "\n",
    "# Build the recommendation model using ALS on the training data\n",
    "als = ALS(maxIter=15, regParam=0.01, userCol=\"userId\" ,itemCol=\"movieId\", ratingCol=\"rating\")\n",
    "#Fit the Model on Item-Based Data\n",
    "model = als.fit(train_data)"
   ]
  },
  {
   "cell_type": "code",
   "execution_count": 14,
   "id": "8c7deee9",
   "metadata": {
    "papermill": {
     "duration": 0.040107,
     "end_time": "2023-08-12T10:51:04.816247",
     "exception": false,
     "start_time": "2023-08-12T10:51:04.776140",
     "status": "completed"
    },
    "tags": []
   },
   "outputs": [],
   "source": [
    "# Evaluation"
   ]
  },
  {
   "cell_type": "code",
   "execution_count": 15,
   "id": "3c6f2779",
   "metadata": {
    "execution": {
     "iopub.execute_input": "2023-08-12T10:51:04.897706Z",
     "iopub.status.busy": "2023-08-12T10:51:04.896566Z",
     "iopub.status.idle": "2023-08-12T10:52:04.207354Z",
     "shell.execute_reply": "2023-08-12T10:52:04.205412Z"
    },
    "papermill": {
     "duration": 59.355828,
     "end_time": "2023-08-12T10:52:04.211570",
     "exception": false,
     "start_time": "2023-08-12T10:51:04.855742",
     "status": "completed"
    },
    "tags": []
   },
   "outputs": [
    {
     "name": "stdout",
     "output_type": "stream",
     "text": [
      "+------+-------+------+----------+----------+\n",
      "|userId|movieId|rating| timestamp|prediction|\n",
      "+------+-------+------+----------+----------+\n",
      "|     1|    307|   5.0|1147868828| 3.7200267|\n",
      "|     1|   1175|   3.5|1147868826| 4.4520154|\n",
      "|     1|   2011|   2.5|1147868079|  2.047362|\n",
      "|     1|   2012|   2.5|1147868068| 1.5757331|\n",
      "|     1|   2632|   5.0|1147878248| 3.0135047|\n",
      "|     1|   3949|   5.0|1147868678| 4.4476156|\n",
      "|     1|   4973|   4.5|1147869080| 4.6071777|\n",
      "|     1|   5147|   4.0|1147877654| 3.7495253|\n",
      "|     1|   5767|   5.0|1147878729| 3.9949007|\n",
      "|     1|   5878|   4.0|1147868807|  4.154049|\n",
      "|     1|   5912|   3.0|1147878698|  2.910003|\n",
      "|     1|   6370|   4.5|1147869191| 4.5123396|\n",
      "|     1|   6539|   3.5|1147868461| 3.7913249|\n",
      "|     1|   7327|   3.5|1147868855| 3.9197721|\n",
      "|     1|   8014|   3.5|1147869155|  3.693029|\n",
      "|     1|   8729|   3.5|1147878452|  4.412877|\n",
      "| 32906|   1196|   5.0| 965798810| 4.4921994|\n",
      "| 32906|   1209|   5.0| 965799052| 4.6548004|\n",
      "| 32906|   1231|   5.0| 965802182| 4.7475367|\n",
      "| 32906|   1233|   5.0| 965798677| 4.8465014|\n",
      "+------+-------+------+----------+----------+\n",
      "only showing top 20 rows\n",
      "\n"
     ]
    }
   ],
   "source": [
    "# Make predictions on the test data using the trained model\n",
    "predictions = model.transform(test_data)\n",
    "\n",
    "# Show the predictions, including original columns and the \"prediction\" column\n",
    "predictions.show()\n"
   ]
  },
  {
   "cell_type": "code",
   "execution_count": 16,
   "id": "7ccc2d56",
   "metadata": {
    "execution": {
     "iopub.execute_input": "2023-08-12T10:52:04.314054Z",
     "iopub.status.busy": "2023-08-12T10:52:04.313701Z",
     "iopub.status.idle": "2023-08-12T10:52:04.331937Z",
     "shell.execute_reply": "2023-08-12T10:52:04.331003Z"
    },
    "papermill": {
     "duration": 0.066183,
     "end_time": "2023-08-12T10:52:04.336480",
     "exception": false,
     "start_time": "2023-08-12T10:52:04.270297",
     "status": "completed"
    },
    "tags": []
   },
   "outputs": [],
   "source": [
    "# Drop rows where the \"prediction\" column has missing values (nulls)\n",
    "predictions_no_missing = predictions.na.drop(subset=[\"prediction\"])\n"
   ]
  },
  {
   "cell_type": "code",
   "execution_count": 17,
   "id": "3c968e37",
   "metadata": {
    "execution": {
     "iopub.execute_input": "2023-08-12T10:52:04.506044Z",
     "iopub.status.busy": "2023-08-12T10:52:04.505679Z",
     "iopub.status.idle": "2023-08-12T10:53:22.544573Z",
     "shell.execute_reply": "2023-08-12T10:53:22.543518Z"
    },
    "papermill": {
     "duration": 78.181459,
     "end_time": "2023-08-12T10:53:22.644834",
     "exception": false,
     "start_time": "2023-08-12T10:52:04.463375",
     "status": "completed"
    },
    "tags": []
   },
   "outputs": [
    {
     "name": "stdout",
     "output_type": "stream",
     "text": [
      "Root Mean Squared Error (RMSE): 0.8003023306872628\n"
     ]
    }
   ],
   "source": [
    "from pyspark.ml.evaluation import RegressionEvaluator\n",
    "\n",
    "# Create a RegressionEvaluator instance with the specified metricName and columns\n",
    "evaluator = RegressionEvaluator(metricName=\"rmse\", labelCol=\"rating\", predictionCol=\"prediction\")\n",
    "\n",
    "# Compute the RMSE on the predictions using the RegressionEvaluator\n",
    "rmse = evaluator.evaluate(predictions_no_missing)\n",
    "\n",
    "# Print the calculated RMSE\n",
    "print(f'Root Mean Squared Error (RMSE): {rmse}')\n"
   ]
  },
  {
   "cell_type": "code",
   "execution_count": 18,
   "id": "260cbeb7",
   "metadata": {
    "execution": {
     "iopub.execute_input": "2023-08-12T10:53:22.893384Z",
     "iopub.status.busy": "2023-08-12T10:53:22.893024Z",
     "iopub.status.idle": "2023-08-12T10:53:36.575437Z",
     "shell.execute_reply": "2023-08-12T10:53:36.574494Z"
    },
    "papermill": {
     "duration": 13.737377,
     "end_time": "2023-08-12T10:53:36.579259",
     "exception": false,
     "start_time": "2023-08-12T10:53:22.841882",
     "status": "completed"
    },
    "tags": []
   },
   "outputs": [
    {
     "name": "stdout",
     "output_type": "stream",
     "text": [
      "+-------+------+\n",
      "|movieId|userId|\n",
      "+-------+------+\n",
      "|     21|    12|\n",
      "|     32|    12|\n",
      "|     36|    12|\n",
      "|     48|    12|\n",
      "|     54|    12|\n",
      "|     97|    12|\n",
      "|    141|    12|\n",
      "|    150|    12|\n",
      "|    231|    12|\n",
      "|    261|    12|\n",
      "|    317|    12|\n",
      "|    329|    12|\n",
      "|    344|    12|\n",
      "|    433|    12|\n",
      "|    435|    12|\n",
      "|    505|    12|\n",
      "|    516|    12|\n",
      "|    531|    12|\n",
      "|    546|    12|\n",
      "|    555|    12|\n",
      "+-------+------+\n",
      "only showing top 20 rows\n",
      "\n"
     ]
    }
   ],
   "source": [
    "single_user = test_data.filter(test_data['userId']==12).select(['movieId','userId'])\n",
    "# User had 10 ratings in the test data set \n",
    "# Realistically this should be some sort of hold out set!\n",
    "single_user.show()"
   ]
  },
  {
   "cell_type": "code",
   "execution_count": 19,
   "id": "36d2b259",
   "metadata": {
    "execution": {
     "iopub.execute_input": "2023-08-12T10:53:36.831358Z",
     "iopub.status.busy": "2023-08-12T10:53:36.830944Z",
     "iopub.status.idle": "2023-08-12T10:54:41.165948Z",
     "shell.execute_reply": "2023-08-12T10:54:41.164851Z"
    },
    "papermill": {
     "duration": 64.464487,
     "end_time": "2023-08-12T10:54:41.170482",
     "exception": false,
     "start_time": "2023-08-12T10:53:36.705995",
     "status": "completed"
    },
    "tags": []
   },
   "outputs": [
    {
     "name": "stdout",
     "output_type": "stream",
     "text": [
      "+-------+------+----------+\n",
      "|movieId|userId|prediction|\n",
      "+-------+------+----------+\n",
      "|   1221|    12| 4.4401164|\n",
      "|   4973|    12| 4.3941245|\n",
      "|    750|    12|  4.372083|\n",
      "|   1288|    12|  4.269582|\n",
      "|    745|    12| 4.2476654|\n",
      "|   3435|    12|  4.217212|\n",
      "|   2804|    12| 4.2119513|\n",
      "|   1212|    12| 4.2084613|\n",
      "|    910|    12| 4.1932387|\n",
      "|   1267|    12|  4.190216|\n",
      "|  48394|    12|  4.182474|\n",
      "|   1089|    12| 4.1523533|\n",
      "|  55820|    12|  4.129227|\n",
      "|  30749|    12|  4.099454|\n",
      "|   1449|    12|  4.084496|\n",
      "|   1222|    12|  4.065552|\n",
      "|   5669|    12| 4.0631456|\n",
      "|   4027|    12| 4.0559983|\n",
      "|   1243|    12|  4.045491|\n",
      "|   1079|    12| 4.0415416|\n",
      "+-------+------+----------+\n",
      "only showing top 20 rows\n",
      "\n"
     ]
    }
   ],
   "source": [
    "reccomendations = model.transform(single_user)\n",
    "reccomendations.orderBy('prediction',ascending=False).show()"
   ]
  },
  {
   "cell_type": "code",
   "execution_count": null,
   "id": "4929287d",
   "metadata": {},
   "outputs": [],
   "source": []
  },
  {
   "cell_type": "code",
   "execution_count": null,
   "id": "b2539730",
   "metadata": {},
   "outputs": [],
   "source": []
  }
 ],
 "metadata": {
  "kernelspec": {
   "display_name": "Python 3 (ipykernel)",
   "language": "python",
   "name": "python3"
  },
  "language_info": {
   "codemirror_mode": {
    "name": "ipython",
    "version": 3
   },
   "file_extension": ".py",
   "mimetype": "text/x-python",
   "name": "python",
   "nbconvert_exporter": "python",
   "pygments_lexer": "ipython3",
   "version": "3.10.9"
  },
  "papermill": {
   "default_parameters": {},
   "duration": 1129.787212,
   "end_time": "2023-08-12T10:54:43.962962",
   "environment_variables": {},
   "exception": null,
   "input_path": "__notebook__.ipynb",
   "output_path": "__notebook__.ipynb",
   "parameters": {},
   "start_time": "2023-08-12T10:35:54.175750",
   "version": "2.4.0"
  }
 },
 "nbformat": 4,
 "nbformat_minor": 5
}
